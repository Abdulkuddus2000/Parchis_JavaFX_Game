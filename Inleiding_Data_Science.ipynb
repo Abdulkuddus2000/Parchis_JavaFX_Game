{
  "nbformat": 4,
  "nbformat_minor": 0,
  "metadata": {
    "colab": {
      "name": "Inleiding Data Science.ipynb",
      "provenance": [],
      "collapsed_sections": [],
      "toc_visible": true,
      "include_colab_link": true
    },
    "kernelspec": {
      "display_name": "Python 3",
      "language": "python",
      "name": "python3"
    },
    "language_info": {
      "codemirror_mode": {
        "name": "ipython",
        "version": 2
      },
      "file_extension": ".py",
      "mimetype": "text/x-python",
      "name": "python",
      "nbconvert_exporter": "python",
      "pygments_lexer": "ipython2",
      "version": "2.7.6"
    }
  },
  "cells": [
    {
      "cell_type": "markdown",
      "metadata": {
        "id": "view-in-github",
        "colab_type": "text"
      },
      "source": [
        "<a href=\"https://colab.research.google.com/github/Abdulkuddus2000/Parchis_JavaFX_Game/blob/main/Inleiding_Data_Science.ipynb\" target=\"_parent\"><img src=\"https://colab.research.google.com/assets/colab-badge.svg\" alt=\"Open In Colab\"/></a>"
      ]
    },
    {
      "cell_type": "markdown",
      "metadata": {
        "collapsed": false,
        "id": "UsSHWaQmt8O1",
        "pycharm": {
          "name": "#%% md\n"
        }
      },
      "source": [
        "# Inleiding Data Science"
      ]
    },
    {
      "cell_type": "markdown",
      "metadata": {
        "collapsed": false,
        "id": "uq8wwWpXt8O7",
        "pycharm": {
          "name": "#%% md\n"
        }
      },
      "source": [
        "## Vraag 1\n",
        "\n",
        "Leerlingen die opdrachten maken in groepjes, halen hogere scores op de geschiedenistoets dan leerlingen die alleen maar frontaal les krijgen."
      ]
    },
    {
      "cell_type": "markdown",
      "metadata": {
        "collapsed": false,
        "id": "TUGBMkCPt8O8",
        "pycharm": {
          "name": "#%% md\n"
        }
      },
      "source": [
        "a) wat zijn de variabelen in deze hypothese?"
      ]
    },
    {
      "cell_type": "code",
      "metadata": {
        "id": "a3rpgnuzS8Fy"
      },
      "source": [
        "# hier komt jouw oplossing"
      ],
      "execution_count": null,
      "outputs": []
    },
    {
      "cell_type": "markdown",
      "metadata": {
        "collapsed": false,
        "id": "bwn8rNRjt8O9",
        "pycharm": {
          "name": "#%% md\n"
        }
      },
      "source": [
        "b) wat is de populatie?"
      ]
    },
    {
      "cell_type": "code",
      "metadata": {
        "id": "IYWLXh_0S8F0"
      },
      "source": [
        "# hier komt jouw oplossing"
      ],
      "execution_count": null,
      "outputs": []
    },
    {
      "cell_type": "markdown",
      "metadata": {
        "collapsed": false,
        "id": "gsuyRlKPt8O-"
      },
      "source": [
        "c) Wat is in deze hypothese de afhankelijke variabele?"
      ]
    },
    {
      "cell_type": "code",
      "metadata": {
        "id": "7xQ8TTQDS8F2"
      },
      "source": [
        "# hier komt jouw oplossing"
      ],
      "execution_count": null,
      "outputs": []
    },
    {
      "cell_type": "markdown",
      "metadata": {
        "collapsed": false,
        "id": "_bFIh_81t8O_",
        "pycharm": {
          "name": "#%% md\n"
        }
      },
      "source": [
        "## Vraag 2\n",
        "\n",
        "Een hypothese luidt:\n",
        "\n",
        "*Het hoogste opleidingsniveau van ouders van gezinnen met vijf of meer kinderen is over het algemeen lager dan dat van ouders met vier of minder kinderen. We onderzoeken of het aantal kinderen invloed heeft op het opleidingsniveau.* \n",
        "\n",
        "Wat is in deze hypothese de:\n",
        "\n",
        "* afhankelijke variabele?\n",
        "* onafhankelijke variabele?\n",
        "* onderzoekseenheid?\n",
        "* steekproef?\n",
        "\n",
        "*Kies uit:* de onderzochte gezinnen, aantal kinderen per gezin, hoogste opleidingsniveau van de ouders, ouders van een gezin"
      ]
    },
    {
      "cell_type": "code",
      "metadata": {
        "id": "AZSnSPGFS8F4"
      },
      "source": [
        "# hier komt jouw oplossing"
      ],
      "execution_count": null,
      "outputs": []
    },
    {
      "cell_type": "markdown",
      "metadata": {
        "collapsed": false,
        "id": "uiIJG0lCt8O_",
        "pycharm": {
          "name": "#%% md\n"
        }
      },
      "source": [
        "## Vraag 3\n",
        "\n",
        "Een hypothese luidt:\n",
        "\n",
        "    \"Ouders met een hoger opleidingsniveau hebben minder kinderen dan ouders met een lager opleidingsniveau.\"\n",
        "\n",
        "Wat is in deze hypothese de:\n",
        "\n",
        "* afhankelijke variabele?\n",
        "* onafhankelijke variabele?\n",
        "* onderzoekseenheid?\n",
        "* steekproef?\n",
        "\n",
        "*Kies uit:* ouders van een gezin, aantal kinderen per gezin, de onderzochte gezinnen, opleidingsniveau van de ouders"
      ]
    },
    {
      "cell_type": "code",
      "metadata": {
        "id": "UkpOTC31S8F6"
      },
      "source": [
        "# hier komt jouw oplossing"
      ],
      "execution_count": null,
      "outputs": []
    },
    {
      "cell_type": "markdown",
      "metadata": {
        "collapsed": false,
        "id": "dcrxX541t8PA",
        "pycharm": {
          "name": "#%% md\n"
        }
      },
      "source": [
        "## Vraag 4\n",
        "\n",
        "Is het mogelijk dat een variabele, die in de ene hypothese als een onafhankelijke variabele functioneert, in een andere hypothese als een afhankelijke variabele wordt gebruikt?"
      ]
    },
    {
      "cell_type": "code",
      "metadata": {
        "id": "6Ezwz7UtS8F7"
      },
      "source": [
        "# hier komt jouw oplossing"
      ],
      "execution_count": null,
      "outputs": []
    },
    {
      "cell_type": "markdown",
      "metadata": {
        "collapsed": false,
        "id": "4dyeGXk3t8PB",
        "pycharm": {
          "name": "#%% md\n"
        }
      },
      "source": [
        "## Vraag 5\n",
        "\n",
        "In welke fase van een onderzoek hoort het verwerpen van een hypothese thuis?\n",
        "\n",
        "* dataverzameling\n",
        "* beschrijven van gegevens\n",
        "* statische conclusies\n",
        "* verband tussen resultaten en theorie (interpretatie)"
      ]
    },
    {
      "cell_type": "code",
      "metadata": {
        "id": "9P37DUoaS8F7"
      },
      "source": [
        "# hier komt jouw oplossing"
      ],
      "execution_count": null,
      "outputs": []
    },
    {
      "cell_type": "markdown",
      "metadata": {
        "collapsed": false,
        "id": "YsBxsjDvt8PB",
        "pycharm": {
          "name": "#%% md\n"
        }
      },
      "source": [
        "## Vraag 6\n",
        "\n",
        "Twee beweringen luiden als volgt:\n",
        "\n",
        "    I Intelligentie is de mate waarin een persoon \"denkmethoden\" beheerst.\n",
        "\n",
        "    II Intelligentie is de score op de Wechsler Adult Intelligence Scale.\n",
        "\n",
        "Welke bewering(en) zijn een operationele definitie?"
      ]
    },
    {
      "cell_type": "code",
      "metadata": {
        "id": "V_-79Y3wS8F8"
      },
      "source": [
        "# hier komt jouw oplossing"
      ],
      "execution_count": null,
      "outputs": []
    },
    {
      "cell_type": "markdown",
      "metadata": {
        "collapsed": false,
        "id": "myUr9Fumt8PB",
        "pycharm": {
          "name": "#%% md\n"
        }
      },
      "source": [
        "## Vraag 7\n",
        "\n",
        "Na het afronden van een onderzoeksproject rapporteren de onderzoekers dat een bepaalde meststof de groei van tomaten doet toenemen.\n",
        "\n",
        "Waarop heeft deze mededeling betrekking?\n",
        "\n",
        "1.  Een beschrijvende bewering die alleen van toepassing is op de tomatenplanten die bestudeerd zijn in het onderzoek.\n",
        "2.  Een conclusie die gebaseerd is op de bestudering van een steekproef\n",
        "3.  De onderzoekers hebben *de *oplossing gevonden voor alle kleine tomaten...\n",
        "4.  Een conclusie die gebaseerd is op onderzoek van de populatie"
      ]
    },
    {
      "cell_type": "code",
      "metadata": {
        "id": "sZvjnfIBS8F9"
      },
      "source": [
        "# hier komt jouw oplossing"
      ],
      "execution_count": null,
      "outputs": []
    },
    {
      "cell_type": "markdown",
      "metadata": {
        "collapsed": false,
        "id": "z20faLB9t8PC",
        "pycharm": {
          "name": "#%% md\n"
        }
      },
      "source": [
        "## Vraag 8\n",
        "\n",
        "Plaats de fasen van het onderzoek bij onderstaande concrete voorbeelden.\n",
        "\n",
        "<br/>A) We verwerpen de hypothese uit de analyse blijkt dat het verschil berust op toeval.\n",
        "<br/>B) Wiskundeaanleg gaan we meten door de gemiddelde uitslag van 4 toetsen te nemen. De leerlingen nemen we die van het eerste jaar.\n",
        "    Voor sekse nemen we voor jongens=1 en meisjes=2\n",
        "<br/>C) Uit het onderzoek blijkt dat de theorie voor wiskunde voor de leerlingen van het eerste jaar niet geldt maar verder onderzoek naar andere onafhankelijke variabelen is noodzakelijk.\n",
        "<br/>D) Hypothese: Jongens hebben meer aanleg voor wiskunde dan meisjes\n",
        "<br/>E) We nemen de toetsen af bij de leerlingen van de gekozen scholen en\n",
        "    plaatsen de resultaten in een datamatrix.\n",
        "<br/>F) Uit de frequentietabel blijkt dat er 299 jongens en 207 meisjes deelnemen. De gemiddelde cijfers voor het totale jaar zijn voor jongens 6.5 en voor meisjes 6.0. De mediaan ligt respectievelijk op 6.0 en 6.0\n",
        "<br/>G) We nemen uit elke provincie de leerlingen uit 1 willekeurig getrokken school van de richting moderne wetenschappen en zullen hen onderleggen aan eenzelfde toets 4x op het jaar."
      ]
    },
    {
      "cell_type": "code",
      "metadata": {
        "id": "I6wmV99lS8F9"
      },
      "source": [
        "# hier komt jouw oplossing"
      ],
      "execution_count": null,
      "outputs": []
    },
    {
      "cell_type": "markdown",
      "metadata": {
        "collapsed": false,
        "id": "K0gHnNg1t8PD"
      },
      "source": [
        "# Soorten variabelen\n",
        "\n",
        "Geef het meetniveau van volgende variabelen:\n",
        "\n",
        "1. De leeftijd van de eendagsvlieg.\n",
        "2. De uitslag van een voetbalwedstrĳd, zonder op het aantal doelpunten\n",
        "    te letten.\n",
        "3. Vervoermiddel.\n",
        "4. Het gevolgde onderwijs door dertig jarigen.\n",
        "5. Het plaatsingsnummer bij een tennistoernooi.\n",
        "6. Score op een schoolvorderingentoets."
      ]
    },
    {
      "cell_type": "code",
      "metadata": {
        "id": "f565P_q7S8F-"
      },
      "source": [
        "# hier komt jouw oplossing"
      ],
      "execution_count": null,
      "outputs": []
    },
    {
      "cell_type": "markdown",
      "metadata": {
        "collapsed": false,
        "id": "L4HhqWfSt8PE",
        "pycharm": {
          "name": "#%% md\n"
        }
      },
      "source": [
        "# Operationaliseren en meten"
      ]
    },
    {
      "cell_type": "markdown",
      "metadata": {
        "collapsed": false,
        "id": "Y9O-CgOlt8PE",
        "pycharm": {
          "name": "#%% md\n"
        }
      },
      "source": [
        "## Vraag 1\n",
        "\n",
        "Geef telkens aan of het gaat om een variabele, een constante, beide of geen van beide.\n",
        "\n",
        "1.  Het intelligentieniveau van persoon A bij de aanvang van zijn 30-ste levensjaar.\n",
        "2.  Het intelligentieniveau van persoon A in de loop van zijn leven.\n",
        "3.  Het gemiddelde intelligentieniveau van eerstejaars     informaticastudenten bij de aanvang van de cursus 2020-2021.\n",
        "4.  Het intelligentieniveau van eerstejaars informaticastudenten bij de aanvang van de cursus 2020-2021.\n",
        "5.  Het intelligentieniveau van eerstejaars informaticastudenten aan de KdG sinds 2000."
      ]
    },
    {
      "cell_type": "code",
      "metadata": {
        "id": "UMs_M2ErS8F-"
      },
      "source": [
        "# hier komt jouw oplossing"
      ],
      "execution_count": null,
      "outputs": []
    },
    {
      "cell_type": "markdown",
      "metadata": {
        "collapsed": false,
        "id": "1vw-QvYht8PF",
        "pycharm": {
          "name": "#%% md\n"
        }
      },
      "source": [
        "## Vraag 2\n",
        "\n",
        "Het aantal zelfdodingen per jaar in een land is...\n",
        "\n",
        "1.  een continue variabele, omdat doorlopend gevallen van zelfdoding plaatsvinden\n",
        "2.  een continue variabele, omdat het aantal per jaar varieert.\n",
        "3.  een discrete variabele, omdat het een aantal betreft\n",
        "4.  een discrete variabele, omdat bij een zelfdoding vaak niet vermeld wordt dat het zelfdoding betreft"
      ]
    },
    {
      "cell_type": "code",
      "metadata": {
        "id": "VbEmwAQJS8GA"
      },
      "source": [
        "# hier komt jouw oplossing"
      ],
      "execution_count": null,
      "outputs": []
    },
    {
      "cell_type": "markdown",
      "metadata": {
        "collapsed": false,
        "id": "E5ZGsDcTt8PG",
        "pycharm": {
          "name": "#%% md\n"
        }
      },
      "source": [
        "## Vraag 3\n",
        "\n",
        "Welke van de volgende variabelen is het meest waarschijnlijk een ordinale variabele?\n",
        "\n",
        "1.  de sekse van leerlingen in een schoolklas.\n",
        "2.  de temperatuur in graden Celsius op een bepaald moment.\n",
        "3.  leeftijd van kinderen die lijden aan ondervoeding in een bepaald land.\n",
        "4.  beoordelingen van leiderschapskwaliteiten.\n",
        "5.  het aantal grammen goud dat op een bepaald moment op de beurs wordt verhandeld."
      ]
    },
    {
      "cell_type": "code",
      "metadata": {
        "id": "1gPV8yriS8GA"
      },
      "source": [
        "# hier komt jouw oplossing"
      ],
      "execution_count": null,
      "outputs": []
    },
    {
      "cell_type": "markdown",
      "metadata": {
        "collapsed": false,
        "id": "vmYyLfirt8PH",
        "pycharm": {
          "name": "#%% md\n"
        }
      },
      "source": [
        "## Vraag 4\n",
        "\n",
        "Bij populaire televisie-uitzendingen is vaak publiek aanwezig. Bij een bepaalde uitzending kreeg elk individu in het publiek een lotnummer toegekend voor deelname aan een loterij.\n",
        "\n",
        "Deze nummers vormen een ...\n",
        "\n",
        "1.  nominale schaal\n",
        "2.  ordinale schaal\n",
        "3.  intervalschaal\n",
        "4.  ratioschaal"
      ]
    },
    {
      "cell_type": "code",
      "metadata": {
        "id": "g_dnV9pDS8GA"
      },
      "source": [
        "# hier komt jouw oplossing"
      ],
      "execution_count": null,
      "outputs": []
    },
    {
      "cell_type": "markdown",
      "metadata": {
        "collapsed": false,
        "id": "3QjTq7jFt8PH",
        "pycharm": {
          "name": "#%% md\n"
        }
      },
      "source": [
        "## Vraag 5\n",
        "\n",
        "Een motivatietest is erg valide, omdat\n",
        "\n",
        "    1. alle toevallige factoren zijn uitgeschakeld.\n",
        "\n",
        "    2. van alle testitems meerkeuzevragen zijn gemaakt.\n",
        "\n",
        "1.  beide zijn juist\n",
        "2.  1 is juist en 2 is onjuist\n",
        "3.  1 is onjuist en 2 is juist\n",
        "4.  beide zijn onjuist"
      ]
    },
    {
      "cell_type": "code",
      "metadata": {
        "id": "TRn2jl2hS8GB"
      },
      "source": [
        "# hier komt jouw oplossing"
      ],
      "execution_count": null,
      "outputs": []
    },
    {
      "cell_type": "markdown",
      "metadata": {
        "collapsed": false,
        "id": "Te6IYYUHt8PH",
        "pycharm": {
          "name": "#%% md\n"
        }
      },
      "source": [
        "## Vraag 6\n",
        "\n",
        "Er bestaat een verband tussen de betrouwbaarheid van het meetinstrument en de validiteit van een uitspraak.\n",
        "\n",
        "Welke van de volgende uitspraken brengt dat het best tot uiting?\n",
        "\n",
        "1.  Met een onbetrouwbaar instrument kun je meestal valide uitspraken doen.\n",
        "2.  Een niet-valide uitspraak is altijd het gevolg van het gebruik van\n",
        "    een onbetrouwbaar meetinstrument.\n",
        "3.  Naarmate een meetinstrument minder betrouwbaar is, is de kans op een valide uitspraak, die gebaseerd is op metingen met dat instrument, geringer.\n",
        "4.  Dieven liegen altijd."
      ]
    },
    {
      "cell_type": "code",
      "metadata": {
        "id": "cxL1PaU-S8GB"
      },
      "source": [
        "# hier komt jouw oplossing"
      ],
      "execution_count": null,
      "outputs": []
    },
    {
      "cell_type": "markdown",
      "metadata": {
        "collapsed": false,
        "id": "2QPaP3Yvt8PI",
        "pycharm": {
          "name": "#%% md\n"
        }
      },
      "source": [
        "## Vraag 7\n",
        "\n",
        "Als je drie keer dezelfde koffer weegt met een ouderwetse balans waarvan de gewichten zijn afgesleten en drie keer tot hetzelfde gewicht komt, dan heb je in deze situatie te maken met ...\n",
        "\n",
        "1.  een betrouwbare en valide meting van het gewicht.\n",
        "2.  een betrouwbare, maar niet-valide meting van het gewicht.\n",
        "3.  een valide, maar niet-betrouwbare meting van het gewicht.\n",
        "4.  geen betrouwbare, maar ook geen valide meting van het gewicht."
      ]
    },
    {
      "cell_type": "code",
      "metadata": {
        "id": "8SF_ONYwS8GC"
      },
      "source": [
        "# hier komt jouw oplossing"
      ],
      "execution_count": null,
      "outputs": []
    }
  ]
}